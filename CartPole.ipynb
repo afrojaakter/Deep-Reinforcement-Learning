{
  "nbformat": 4,
  "nbformat_minor": 0,
  "metadata": {
    "colab": {
      "name": "ReinforcementLearning.ipynb",
      "provenance": [],
      "mount_file_id": "1dkOZ19prQS_9Rl6WJcvx23BczzOkToyo",
      "authorship_tag": "ABX9TyOUudCGhSVQbQ107T/cXC67",
      "include_colab_link": true
    },
    "kernelspec": {
      "name": "python3",
      "display_name": "Python 3"
    },
    "language_info": {
      "name": "python"
    }
  },
  "cells": [
    {
      "cell_type": "markdown",
      "metadata": {
        "id": "view-in-github",
        "colab_type": "text"
      },
      "source": [
        "<a href=\"https://colab.research.google.com/github/afrojaakter/Deep-Reinforcement-Learning/blob/main/CartPole.ipynb\" target=\"_parent\"><img src=\"https://colab.research.google.com/assets/colab-badge.svg\" alt=\"Open In Colab\"/></a>"
      ]
    },
    {
      "cell_type": "code",
      "metadata": {
        "colab": {
          "base_uri": "https://localhost:8080/"
        },
        "id": "yY5eZjDgFs5r",
        "outputId": "0dc69c4d-7495-4b98-eaee-77d580e1cd53"
      },
      "source": [
        "#Install some visualization dependences for the agents\n",
        "!apt-get-install -y xvfb python-opengl x11-until > /dev/null 2>&1\n",
        "!pip install gym pyvirtualdisplay scikit-video > /dev/null 2>&1\n",
        "\n",
        "%tensorflow_version 2.x\n",
        "import tensorflow as tf\n",
        "import numpy as np\n",
        "import base64, io, time, gym\n",
        "import IPython, functools\n",
        "import matplotlib.pyplot as plt\n",
        "from tqdm import tqdm\n",
        "\n",
        "#Download and import MIT 6.S191 packages\n",
        "!pip install mitdeeplearning\n",
        "import mitdeeplearning as mdl\n"
      ],
      "execution_count": 3,
      "outputs": [
        {
          "output_type": "stream",
          "text": [
            "Collecting mitdeeplearning\n",
            "\u001b[?25l  Downloading https://files.pythonhosted.org/packages/9d/ad/650eb53c0d9d1213536fe94bc150f89b564ff5ee784bd662272584bb091b/mitdeeplearning-0.2.0.tar.gz (2.1MB)\n",
            "\u001b[K     |████████████████████████████████| 2.1MB 4.1MB/s \n",
            "\u001b[?25hRequirement already satisfied: numpy in /usr/local/lib/python3.7/dist-packages (from mitdeeplearning) (1.19.5)\n",
            "Requirement already satisfied: regex in /usr/local/lib/python3.7/dist-packages (from mitdeeplearning) (2019.12.20)\n",
            "Requirement already satisfied: tqdm in /usr/local/lib/python3.7/dist-packages (from mitdeeplearning) (4.41.1)\n",
            "Requirement already satisfied: gym in /usr/local/lib/python3.7/dist-packages (from mitdeeplearning) (0.17.3)\n",
            "Requirement already satisfied: pyglet<=1.5.0,>=1.4.0 in /usr/local/lib/python3.7/dist-packages (from gym->mitdeeplearning) (1.5.0)\n",
            "Requirement already satisfied: scipy in /usr/local/lib/python3.7/dist-packages (from gym->mitdeeplearning) (1.4.1)\n",
            "Requirement already satisfied: cloudpickle<1.7.0,>=1.2.0 in /usr/local/lib/python3.7/dist-packages (from gym->mitdeeplearning) (1.3.0)\n",
            "Requirement already satisfied: future in /usr/local/lib/python3.7/dist-packages (from pyglet<=1.5.0,>=1.4.0->gym->mitdeeplearning) (0.16.0)\n",
            "Building wheels for collected packages: mitdeeplearning\n",
            "  Building wheel for mitdeeplearning (setup.py) ... \u001b[?25l\u001b[?25hdone\n",
            "  Created wheel for mitdeeplearning: filename=mitdeeplearning-0.2.0-cp37-none-any.whl size=2115441 sha256=a1233eb9c3648aa8659b565b605157bd4c0532f0e4756b7a0e8afd2d07d7095d\n",
            "  Stored in directory: /root/.cache/pip/wheels/af/dc/2a/5c3633135e7e4ef4fd31463cfa1942cb1bae7486ab94e7a2ad\n",
            "Successfully built mitdeeplearning\n",
            "Installing collected packages: mitdeeplearning\n",
            "Successfully installed mitdeeplearning-0.2.0\n"
          ],
          "name": "stdout"
        }
      ]
    },
    {
      "cell_type": "code",
      "metadata": {
        "colab": {
          "base_uri": "https://localhost:8080/"
        },
        "id": "NNk4O5HmGhur",
        "outputId": "6407d3e7-2dd8-4c19-9a4b-8affb6ca45a8"
      },
      "source": [
        "#Instantiate the Cartpole environment\n",
        "env = gym.make('CartPole-v0')\n",
        "env.seed(1)"
      ],
      "execution_count": 13,
      "outputs": [
        {
          "output_type": "execute_result",
          "data": {
            "text/plain": [
              "[1]"
            ]
          },
          "metadata": {
            "tags": []
          },
          "execution_count": 13
        }
      ]
    },
    {
      "cell_type": "code",
      "metadata": {
        "colab": {
          "base_uri": "https://localhost:8080/"
        },
        "id": "_G_G6-RbJ3Ux",
        "outputId": "34e12219-0ea2-4988-f86e-a7427aa39172"
      },
      "source": [
        "n_observations = env.observation_space\n",
        "n_actions = env.action_space.n\n",
        "print(n_observations, n_actions)"
      ],
      "execution_count": 15,
      "outputs": [
        {
          "output_type": "stream",
          "text": [
            "Box(-3.4028234663852886e+38, 3.4028234663852886e+38, (4,), float32) 2\n"
          ],
          "name": "stdout"
        }
      ]
    },
    {
      "cell_type": "markdown",
      "metadata": {
        "id": "h9X5j-6nKfpA"
      },
      "source": [
        "#Cartpole agent"
      ]
    },
    {
      "cell_type": "code",
      "metadata": {
        "id": "yzeV2bjLKO-9"
      },
      "source": [
        "#Cartpole agent\n",
        "\n",
        "#Define a feed-forward network\n",
        "def create_cartpole_model():\n",
        "  model = tf.keras.models.Sequential([\n",
        "                                      tf.keras.layers.Dense(units=32, activation='relu'),\n",
        "                                      tf.keras.layers.Dense(units=n_actions, activation=None)\n",
        "  ])\n",
        "  return model\n",
        "\n",
        "cartploe_model = create_cartpole_model()\n"
      ],
      "execution_count": 17,
      "outputs": []
    },
    {
      "cell_type": "code",
      "metadata": {
        "id": "5KWnZWcmKeIJ"
      },
      "source": [
        "#Agent's action \n",
        "def choose_action(model, observation, single = True):\n",
        "  \"\"\"takes observation as input, excutes a forward pass through model\n",
        "  and outputs a sampled action.\n",
        "  Arguments::\n",
        "  model: the network that defines agent\n",
        "  observation: observations which are fed as input to the model\n",
        "  single: flag as to whether we are handling a single observations or \n",
        "          a batch of observations.\n",
        "  returns:: \n",
        "  action: choise of agent action\n",
        "  \"\"\"\n",
        "  #add batch dimension to the observation if single example was provided\n",
        "  observation = np.expand_dims(observation, axis=0) if single else observation\n",
        "  \n",
        "  logits = model.predict(observation) # predict the log probabilities of each possible action\n",
        "  action = tf.random.categorical(logits, num_samples=1) #an action from the categorical distribution defined by the log probabilities of each possible action.\n",
        "  action = action.numpy().flatten()\n",
        "  return action[0] if single else action"
      ],
      "execution_count": 22,
      "outputs": []
    },
    {
      "cell_type": "markdown",
      "metadata": {
        "id": "iWsQ4wRJPMFX"
      },
      "source": [
        "#Agent's momory"
      ]
    },
    {
      "cell_type": "code",
      "metadata": {
        "id": "IciTyjp8Nial"
      },
      "source": [
        "class Memory:\n",
        "  def __init__(self):\n",
        "    self.clear()\n",
        "\n",
        "  def clear(self):\n",
        "    self.observations = []\n",
        "    self.actions = []\n",
        "    self.rewards = []\n",
        "  \n",
        "  def add_to_memory(self, new_observation, new_action, new_reward):\n",
        "    self.observations.append(new_observation)\n",
        "    self.actions.append(new_action)\n",
        "    self.rewards.append(new_reward)\n",
        "  \n",
        "def aggregate_momories(memories):\n",
        "  batch_memory = Memory()\n",
        "  for memory in memories:\n",
        "    for step in zip(memory.observations, memory.actions, memory.rewards):\n",
        "      batch_memory.add_to_memory(*step)\n",
        "  return batch_memory\n",
        "\n",
        "memory = Memory()"
      ],
      "execution_count": 31,
      "outputs": []
    },
    {
      "cell_type": "markdown",
      "metadata": {
        "id": "c_Mv5RRkQevb"
      },
      "source": [
        "#Reward Function"
      ]
    },
    {
      "cell_type": "code",
      "metadata": {
        "id": "Awwulz0gQhQD"
      },
      "source": [
        "def normalize(x):\n",
        "  x -= np.mean(x)\n",
        "  x/= np.std(x)\n",
        "  return x.astype(np.float32)\n",
        "\n",
        "def discount_rewards(rewards, gamma = 0.95):\n",
        "  discounted_rewards =  np.zeros_like(rewards)\n",
        "  R = 0\n",
        "  for t in reversed(range(0, len(rewards))):\n",
        "    R = R * gamma + rewards[t]\n",
        "    discounted_rewards[t] = R\n",
        "  return normalize(discounted_rewards)\n"
      ],
      "execution_count": 33,
      "outputs": []
    },
    {
      "cell_type": "markdown",
      "metadata": {
        "id": "NIi6k4GiRNHw"
      },
      "source": [
        "#Learning Algorithm"
      ]
    },
    {
      "cell_type": "code",
      "metadata": {
        "id": "t5k-BybaRPdx"
      },
      "source": [
        "#Loss function\n",
        "\n",
        "def compute_loss(logits, actions, rewards):\n",
        "  neg_legprob = tf.nn.sparse_softmax_cross_entropy_with_logits(logits=logits, labels=actions)\n",
        "  loss = tf.reduce_mean(neg_legprob * rewards)\n",
        "  return loss"
      ],
      "execution_count": 25,
      "outputs": []
    },
    {
      "cell_type": "code",
      "metadata": {
        "id": "JcHcc0jdRqUH"
      },
      "source": [
        "def train_step(model, optimizer, observations, actions, discount_rewards):\n",
        "  with tf.GradientTape() as tape:\n",
        "    #forward propagate through the agent network\n",
        "    logits = model(observations)\n",
        "    loss = compute_loss(logits, actions, discount_rewards)\n",
        "\n",
        "  grads = tape.gradient(loss, model.trainable_variables)\n",
        "  optimizer.apply_gradients(zip(grads, model.trainable_variables))"
      ],
      "execution_count": 26,
      "outputs": []
    },
    {
      "cell_type": "markdown",
      "metadata": {
        "id": "olZyaXZVSjTA"
      },
      "source": [
        "#Run CartPole"
      ]
    },
    {
      "cell_type": "code",
      "metadata": {
        "colab": {
          "base_uri": "https://localhost:8080/",
          "height": 541
        },
        "id": "6nIJkql8Slvf",
        "outputId": "59c0d03d-2f02-47b1-c308-535b7a307edd"
      },
      "source": [
        "#CartPole Training\n",
        "\n",
        "learning_rate = 1e-3\n",
        "optimizer = tf.keras.optimizers.Adam(learning_rate)\n",
        "\n",
        "#instantiate cartpole agent\n",
        "cartploe_model = create_cartpole_model()\n",
        "\n",
        "#track the progress\n",
        "smoothed_rewards = mdl.util.LossHistory(smoothing_factor=0.9)\n",
        "plotter = mdl.util.PeriodicPlotter(sec = 2, xlabel='Iterations', ylabel='Rewards')\n",
        "if hasattr(tqdm, '_instances'):tqdm._instances.clear()\n",
        "for i_episode in range(500):\n",
        "  plotter.plot(smoothed_rewards.get())\n",
        "\n",
        "  #restart the environment\n",
        "  observation = env.reset()\n",
        "  memory.clear()\n",
        "\n",
        "  while True:\n",
        "    action = choose_action(cartploe_model, observation)\n",
        "    next_observation, reward, done, info = env.step(action)\n",
        "    #add memory\n",
        "    memory.add_to_memory(observation, action, reward)\n",
        "\n",
        "    if done:\n",
        "      #determine total reward and a record of this\n",
        "      total_reward = sum(memory.rewards)\n",
        "      smoothed_rewards.append(total_reward)\n",
        "\n",
        "      train_step(cartploe_model, optimizer, observations = np.vstack(memory.observations),\n",
        "                 actions = np.array(memory.actions),\n",
        "                 discount_rewards = discount_rewards(memory.rewards))\n",
        "      memory.clear()\n",
        "      break\n",
        "    observation = next_observation"
      ],
      "execution_count": 34,
      "outputs": [
        {
          "output_type": "display_data",
          "data": {
            "image/png": "[encoded data removed]",
            "text/plain": [
              "<Figure size 432x288 with 1 Axes>"
            ]
          },
          "metadata": {
            "tags": []
          }
        },
        {
          "output_type": "display_data",
          "data": {
            "image/png": "[encoded data removed]",
            "text/plain": [
              "<Figure size 432x288 with 1 Axes>"
            ]
          },
          "metadata": {
            "tags": [],
            "needs_background": "light"
          }
        }
      ]
    },
    {
      "cell_type": "code",
      "metadata": {
        "colab": {
          "base_uri": "https://localhost:8080/"
        },
        "id": "Ti1UZKUcbaN-",
        "outputId": "d0e78079-0d28-4ad7-817e-45748ad35942"
      },
      "source": [
        "!pip install xvfbwrapper"
      ],
      "execution_count": 38,
      "outputs": [
        {
          "output_type": "stream",
          "text": [
            "Collecting xvfbwrapper\n",
            "  Downloading https://files.pythonhosted.org/packages/57/b6/4920eabda9b49630dea58745e79f9919aba6408d460afe758bf6e9b21a04/xvfbwrapper-0.2.9.tar.gz\n",
            "Building wheels for collected packages: xvfbwrapper\n",
            "  Building wheel for xvfbwrapper (setup.py) ... \u001b[?25l\u001b[?25hdone\n",
            "  Created wheel for xvfbwrapper: filename=xvfbwrapper-0.2.9-cp37-none-any.whl size=5024 sha256=a3745ea0001b386ab2e49a94dbf1d065c17411723861d0e2b8f696eaa890a2d5\n",
            "  Stored in directory: /root/.cache/pip/wheels/10/f2/61/cacfaf84b352c223761ea8d19616e3b5ac5c27364da72863f0\n",
            "Successfully built xvfbwrapper\n",
            "Installing collected packages: xvfbwrapper\n",
            "Successfully installed xvfbwrapper-0.2.9\n"
          ],
          "name": "stdout"
        }
      ]
    },
    {
      "cell_type": "code",
      "metadata": {
        "id": "LcefITCQSiaS"
      },
      "source": [
        "saved_cartpole = mdl.lab3.save_video_of_model(cartploe_model, \"CartPole-v0\")\n",
        "mdl.lab3.play_video(saved_cartpole)"
      ],
      "execution_count": null,
      "outputs": []
    }
  ]
}